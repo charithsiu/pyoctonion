{
 "cells": [
  {
   "cell_type": "code",
   "execution_count": 1,
   "metadata": {},
   "outputs": [
    {
     "name": "stdout",
     "output_type": "stream",
     "text": [
      "Requirement already satisfied: pyoctonion in c:\\users\\kmthu\\anaconda3\\lib\\site-packages (3.3)\n",
      "Note: you may need to restart the kernel to use updated packages.\n"
     ]
    }
   ],
   "source": [
    "#You do not have to run this cell all the time. Run only once in your computer is enough.\n",
    "#installing pyOctonion Library\n",
    "pip install pyoctonion\n",
    "import numpy as np\n",
    "from math import *"
   ]
  },
  {
   "cell_type": "code",
   "execution_count": 1,
   "metadata": {},
   "outputs": [
    {
     "name": "stdout",
     "output_type": "stream",
     "text": [
      "-280572147446661282244001640592249325055568109946085751503474643454394368.0000 +0.0000i +0.0000j +0.0000k +0.0000l +0.0000il -170544347803961130604196514579105411751839231960120924386278778488225792.0000jl -170544347803961130604196514579105411751839231960120924386278778488225792.0000kl\n"
     ]
    }
   ],
   "source": [
    "from pyoctonion import Octonion\n",
    "import sympy as sym\n",
    "#initializing values\n",
    "sym.init_printing()\n",
    "theta,alpha,rho,beta,u,i,j,k,l,il,jl,kl=sym.symbols('theta alpha rho beta u i j k l il jl kl')"
   ]
  },
  {
   "cell_type": "markdown",
   "metadata": {},
   "source": [
    "# Basic operations"
   ]
  },
  {
   "cell_type": "code",
   "execution_count": 2,
   "metadata": {},
   "outputs": [],
   "source": [
    "a=Octonion(1,2,3,4,5,6,7,8)\n",
    "b=Octonion(8,7,6,5,4,3,2,1)\n",
    "c=Octonion(0,2,4,7,10,5,6,9)"
   ]
  },
  {
   "cell_type": "code",
   "execution_count": 3,
   "metadata": {},
   "outputs": [
    {
     "data": {
      "text/plain": [
       "+9.0000 +9.0000i +9.0000j +9.0000k +9.0000l +9.0000il +9.0000jl +9.0000kl"
      ]
     },
     "execution_count": 3,
     "metadata": {},
     "output_type": "execute_result"
    }
   ],
   "source": [
    "a+b"
   ]
  },
  {
   "cell_type": "code",
   "execution_count": 4,
   "metadata": {},
   "outputs": [
    {
     "data": {
      "text/plain": [
       "-7.0000 -5.0000i -3.0000j -1.0000k +1.0000l +3.0000il +5.0000jl +7.0000kl"
      ]
     },
     "execution_count": 4,
     "metadata": {},
     "output_type": "execute_result"
    }
   ],
   "source": [
    "a-b"
   ]
  },
  {
   "cell_type": "code",
   "execution_count": 5,
   "metadata": {},
   "outputs": [
    {
     "data": {
      "text/plain": [
       "-104.0000 +14.0000i +12.0000j +10.0000k +152.0000l +42.0000il +4.0000jl +74.0000kl"
      ]
     },
     "execution_count": 5,
     "metadata": {},
     "output_type": "execute_result"
    }
   ],
   "source": [
    "a*b"
   ]
  },
  {
   "cell_type": "code",
   "execution_count": 6,
   "metadata": {},
   "outputs": [
    {
     "data": {
      "text/plain": [
       "+0.0049 -0.0098i -0.0147j -0.0196k -0.0245l -0.0294il -0.0343jl -0.0392kl"
      ]
     },
     "execution_count": 6,
     "metadata": {},
     "output_type": "execute_result"
    }
   ],
   "source": [
    "a.inverse"
   ]
  },
  {
   "cell_type": "code",
   "execution_count": 7,
   "metadata": {},
   "outputs": [
    {
     "data": {
      "text/plain": [
       "+0.0049 -0.0098i -0.0147j -0.0196k -0.0245l -0.0294il -0.0343jl -0.0392kl"
      ]
     },
     "execution_count": 7,
     "metadata": {},
     "output_type": "execute_result"
    }
   ],
   "source": [
    "1/a"
   ]
  },
  {
   "cell_type": "code",
   "execution_count": 8,
   "metadata": {},
   "outputs": [
    {
     "data": {
      "text/plain": [
       "+0.5882 +0.0882i +0.1765j +0.2647k -0.3529l +0.2647il +0.5294jl +0.2647kl"
      ]
     },
     "execution_count": 8,
     "metadata": {},
     "output_type": "execute_result"
    }
   ],
   "source": [
    "a/b\n"
   ]
  },
  {
   "cell_type": "code",
   "execution_count": 9,
   "metadata": {},
   "outputs": [
    {
     "data": {
      "text/plain": [
       "+1.0000 -2.0000i -3.0000j -4.0000k -5.0000l -6.0000il -7.0000jl -8.0000kl"
      ]
     },
     "execution_count": 9,
     "metadata": {},
     "output_type": "execute_result"
    }
   ],
   "source": [
    "a.conjugate"
   ]
  },
  {
   "cell_type": "code",
   "execution_count": 10,
   "metadata": {},
   "outputs": [
    {
     "data": {
      "image/png": "[encoded data removed]",
      "text/latex": [
       "$\\displaystyle 14.2828568570857$"
      ],
      "text/plain": [
       "14.2828568570857"
      ]
     },
     "execution_count": 10,
     "metadata": {},
     "output_type": "execute_result"
    }
   ],
   "source": [
    "a.norm"
   ]
  },
  {
   "cell_type": "code",
   "execution_count": 11,
   "metadata": {},
   "outputs": [
    {
     "data": {
      "text/plain": [
       "-202.0000 +4.0000i +6.0000j +8.0000k +10.0000l +12.0000il +14.0000jl +16.0000kl"
      ]
     },
     "execution_count": 11,
     "metadata": {},
     "output_type": "execute_result"
    }
   ],
   "source": [
    "a**2"
   ]
  },
  {
   "cell_type": "code",
   "execution_count": 12,
   "metadata": {},
   "outputs": [
    {
     "data": {
      "text/plain": [
       "-270060800512.0000 +31976651776.0000i +47964977664.0000j +63953303552.0000k +79941629440.0000l +95929955328.0000il +111918281216.0000jl +127906607104.0000kl"
      ]
     },
     "execution_count": 12,
     "metadata": {},
     "output_type": "execute_result"
    }
   ],
   "source": [
    "a**10"
   ]
  },
  {
   "cell_type": "code",
   "execution_count": 13,
   "metadata": {},
   "outputs": [
    {
     "data": {
      "image/png": "[encoded data removed]",
      "text/latex": [
       "$\\displaystyle 1$"
      ],
      "text/plain": [
       "1"
      ]
     },
     "execution_count": 13,
     "metadata": {},
     "output_type": "execute_result"
    }
   ],
   "source": [
    "a.x_0"
   ]
  },
  {
   "cell_type": "code",
   "execution_count": 14,
   "metadata": {},
   "outputs": [
    {
     "data": {
      "image/png": "[encoded data removed]",
      "text/latex": [
       "$\\displaystyle 8$"
      ],
      "text/plain": [
       "8"
      ]
     },
     "execution_count": 14,
     "metadata": {},
     "output_type": "execute_result"
    }
   ],
   "source": [
    "a.x_7"
   ]
  },
  {
   "cell_type": "markdown",
   "metadata": {},
   "source": [
    "# If c is imaginary octonion then:   $c^2=-|c|^2$"
   ]
  },
  {
   "cell_type": "code",
   "execution_count": 15,
   "metadata": {},
   "outputs": [
    {
     "data": {
      "text/plain": [
       "-311.0000 +0.0000i +0.0000j +0.0000k +0.0000l +0.0000il +0.0000jl +0.0000kl"
      ]
     },
     "execution_count": 15,
     "metadata": {},
     "output_type": "execute_result"
    }
   ],
   "source": [
    "c**2\n"
   ]
  },
  {
   "cell_type": "code",
   "execution_count": 16,
   "metadata": {},
   "outputs": [
    {
     "data": {
      "image/png": "[encoded data removed]",
      "text/latex": [
       "$\\displaystyle -311.0$"
      ],
      "text/plain": [
       "-311.0"
      ]
     },
     "execution_count": 16,
     "metadata": {},
     "output_type": "execute_result"
    }
   ],
   "source": [
    "-(c.norm)**2"
   ]
  },
  {
   "cell_type": "markdown",
   "metadata": {},
   "source": [
    "# Associator:  $[a,b,c]$"
   ]
  },
  {
   "cell_type": "code",
   "execution_count": 17,
   "metadata": {},
   "outputs": [
    {
     "data": {
      "text/plain": [
       "+0.0000 +432.0000i -180.0000j -144.0000k -36.0000l -576.0000il +144.0000jl +360.0000kl"
      ]
     },
     "execution_count": 17,
     "metadata": {},
     "output_type": "execute_result"
    }
   ],
   "source": [
    "a*(b*c)-(a*b)*c"
   ]
  },
  {
   "cell_type": "markdown",
   "metadata": {},
   "source": [
    " # $\\phi(a,b,c)=\\frac{1}{2}Re([a,\\bar{b}]c)$"
   ]
  },
  {
   "cell_type": "code",
   "execution_count": 19,
   "metadata": {},
   "outputs": [
    {
     "data": {
      "image/png": "[encoded data removed]",
      "text/latex": [
       "$\\displaystyle 513.0$"
      ],
      "text/plain": [
       "513.0"
      ]
     },
     "execution_count": 19,
     "metadata": {},
     "output_type": "execute_result"
    }
   ],
   "source": [
    "(((a*b.conjugate-b.conjugate*a)*c).x_0)/2"
   ]
  },
  {
   "cell_type": "markdown",
   "metadata": {},
   "source": [
    "# Alternativity property: $(aa)b=a(ab)$"
   ]
  },
  {
   "cell_type": "code",
   "execution_count": 20,
   "metadata": {},
   "outputs": [
    {
     "data": {
      "text/plain": [
       "-1840.0000 -1400.0000i -1200.0000j -1000.0000k -512.0000l -528.0000il -400.0000jl -56.0000kl"
      ]
     },
     "execution_count": 20,
     "metadata": {},
     "output_type": "execute_result"
    }
   ],
   "source": [
    "(a*a)*b"
   ]
  },
  {
   "cell_type": "code",
   "execution_count": 21,
   "metadata": {},
   "outputs": [
    {
     "data": {
      "text/plain": [
       "-1840.0000 -1400.0000i -1200.0000j -1000.0000k -512.0000l -528.0000il -400.0000jl -56.0000kl"
      ]
     },
     "execution_count": 21,
     "metadata": {},
     "output_type": "execute_result"
    }
   ],
   "source": [
    "a*(a*b)"
   ]
  },
  {
   "cell_type": "markdown",
   "metadata": {},
   "source": [
    "# Moufang Identiy: $ a(bc)a=(ab)(ca)$\n",
    "\n"
   ]
  },
  {
   "cell_type": "code",
   "execution_count": 22,
   "metadata": {},
   "outputs": [
    {
     "data": {
      "text/plain": [
       "+25264.0000 -7000.0000i -11520.0000j -2168.0000k -28720.0000l -16920.0000il -5528.0000jl -25960.0000kl"
      ]
     },
     "execution_count": 22,
     "metadata": {},
     "output_type": "execute_result"
    }
   ],
   "source": [
    "a*(b*c)*a"
   ]
  },
  {
   "cell_type": "code",
   "execution_count": 23,
   "metadata": {},
   "outputs": [
    {
     "data": {
      "text/plain": [
       "+25264.0000 -7000.0000i -11520.0000j -2168.0000k -28720.0000l -16920.0000il -5528.0000jl -25960.0000kl"
      ]
     },
     "execution_count": 23,
     "metadata": {},
     "output_type": "execute_result"
    }
   ],
   "source": [
    "(a*b)*(c*a)"
   ]
  },
  {
   "cell_type": "markdown",
   "metadata": {},
   "source": [
    "# Solve octonionic left quadratic equation: $ x^2+bx+c=0$"
   ]
  },
  {
   "cell_type": "code",
   "execution_count": null,
   "metadata": {},
   "outputs": [],
   "source": []
  },
  {
   "cell_type": "code",
   "execution_count": 24,
   "metadata": {},
   "outputs": [],
   "source": [
    "def oct_quad(b,c):    \n",
    "\n",
    "    if b.x_1==0 and b.x_2==0 and b.x_3==0 and b.x_4==0 and b.x_5==0 and b.x_6==0 and b.x_7==0:    \n",
    "            \n",
    "        if  c.x_1==0 and c.x_2==0 and c.x_3==0 and c.x_4==0 and c.x_5==0 and c.x_6==0 and c.x_7==0:\n",
    "\n",
    "            d=4*c.x_0-b.x_0**2\n",
    "\n",
    "            if d>0:\n",
    "                d_1=abs(sqrt(d/4))\n",
    "                print(\"Roots of the octonionic left quadratic equation are:\",-b.x_0/2,\"+I\")\n",
    "                print(\"where I is imaginary octonion with norm equal to\",d_1)\n",
    "                print(\"Thus, this octonionic left quadratic equation has infinitely many roots\")\n",
    "            else:\n",
    "                e=-d\n",
    "                print(\"Roots of the octonionic left quadratic equation are:\")\n",
    "                print((-b.x_0+sqrt(e))/2, \"or\",(-b.x_0-sqrt(e))/2 )\n",
    "                \n",
    "        else:\n",
    "\n",
    "            r_1=((b.x_0**2-4*c.x_0)**2)+16*(c.x_1**2 + c.x_2**2 + c.x_3**2+c.x_4**2 + c.x_5**2 + c.x_6**2+c.x_7**2)\n",
    "            r_2=b.x_0**2-4*c.x_0\n",
    "\n",
    "            print(\"Roots are of the form:\")\n",
    "\n",
    "            display((-b.x_0/2)+(rho/2)-c.x_1*(i/rho)-c.x_2*(j/rho)-c.x_3*(k/rho)-c.x_4*(l/rho)-c.x_5*(il/rho)-c.x_6*(jl/rho)-c.x_7*(kl/rho))\n",
    "\n",
    "            print(\"OR\")\n",
    "\n",
    "            display((-b.x_0/2)-(rho/2)+c.x_1*(i/rho)+c.x_2*(j/rho)+c.x_3*(k/rho)+c.x_4*(l/rho)+c.x_5*(il/rho)+c.x_6*(jl/rho)+c.x_7*(kl/rho))\n",
    "\n",
    "\n",
    "            h=sqrt(r_1)\n",
    "            m=r_2+h\n",
    "            p=sqrt(m/2)\n",
    "            print(\"where\")\n",
    "            display(rho) \n",
    "            print(\"=\",p)\n",
    "\n",
    "            x_0=(-b.x_0/2)-(p/2)\n",
    "            x_00=(-b.x_0/2)+(p/2)\n",
    "            x_1=c.x_1/p\n",
    "            x_2=c.x_2/p\n",
    "            x_3=c.x_3/p\n",
    "            x_4=c.x_4/p\n",
    "            x_5=c.x_5/p\n",
    "            x_6=c.x_6/p\n",
    "            x_7=c.x_7/p\n",
    "            q_1=Octonion(x_0,x_1,x_2,x_3,x_4,x_5,x_6,x_7)\n",
    "            q_2=Octonion(x_00,-x_1,-x_2,-x_3,-x_4,-x_5,-x_6,-x_7)\n",
    "            print(\"So, Roots of the octonionic left quadratic equation can be written as:\")\n",
    "            print(q_1,\"and\")\n",
    "            print(q_2)\n",
    "\n",
    "    else:\n",
    "            b_1=Octonion(0,b.x_1,b.x_2,b.x_3,b.x_4,b.x_5,b.x_6,b.x_7)\n",
    "            b_11=Octonion(b.x_0/2,b.x_1,b.x_2,b.x_3,b.x_4,b.x_5,b.x_6,b.x_7)\n",
    "            c_11=(b.x_0/2)*(b_11)\n",
    "            c_1=c+(-1)*c_11\n",
    "            \n",
    "            B=(b_1.norm)**2 +2*c_1.x_0\n",
    "            E=(c_1.norm)**2\n",
    "            \n",
    "            D_1=(b_1.conjugate)*(c_1)\n",
    "            D=2*D_1.x_0\n",
    "         \n",
    "            if D==0:\n",
    "                if B>=2*sqrt(E) or B<= -2*sqrt(E):\n",
    "                    T=0\n",
    "                    N_1=(B+sqrt(B**2 -4*E))/2\n",
    "                    N_2=(B-sqrt(B**2 -4*E))/2\n",
    "                    Q=b_1.inverse\n",
    "                    c_111=c_1-N_1\n",
    "                    xx_1=Q*c_111\n",
    "                    xx_3= -(b.x_0/2)+(-1)*xx_1\n",
    "                    d_111=c_1-N_2\n",
    "                    xx_2=Q*d_111\n",
    "                    xx_4=-(b.x_0/2)+(-1)*xx_2\n",
    "                    print(\"Roots of the octonionic quadratic equation can be written as:\")\n",
    "                    print(xx_3,\"and\")\n",
    "                    print(xx_4)\n",
    "                    \n",
    "                else:\n",
    "                    T_1=sqrt(2*sqrt(E)-B)\n",
    "                    T_2=-sqrt(2*sqrt(E)-B)\n",
    "                    N=sqrt(E)\n",
    "\n",
    "                    Q_1=(T_1+b_1).inverse\n",
    "                    Q_2=(T_2+b_1).inverse\n",
    "                  \n",
    "                    c_111=c_1-N\n",
    "                    xx_1=Q_1*c_111\n",
    "                    \n",
    "                    xx_3=-(b.x_0/2)+(-1)*xx_1\n",
    "                    xx_2=Q_2*c_111\n",
    "                    \n",
    "                    xx_4=-(b.x_0/2)+(-1)*xx_2\n",
    "                    print(\"Roots of the octonionic left quadratic equation can be written as:\")\n",
    "                    print(xx_3,\"and\")\n",
    "                    print(xx_4)\n",
    "            else: \n",
    "\n",
    "                p=np.poly1d([1,2*B,B**2 -4*E,-(D**2)])\n",
    "                rootsp=p.r\n",
    "\n",
    "                var=[0,1,2]\n",
    "\n",
    "                for n in var:\n",
    "                    #print(rootsp[n])\n",
    "                    if rootsp[n]>0 :\n",
    "                        root=rootsp[n]\n",
    "\n",
    "                T_1=sqrt(root)\n",
    "                T_2=-sqrt(root)\n",
    "                N_1=(T_1**3 +B*T_1+D)/(2*T_1)\n",
    "                N_2=(T_2**3 +B*T_2+D)/(2*T_2)\n",
    "                Q_1=(T_1+b_1).inverse\n",
    "                Q_2=(T_2+b_1).inverse\n",
    "                c_111=c_1-N_1\n",
    "                d_111=c_1-N_2\n",
    "                xx_1=Q_1*c_111\n",
    "                xx_3=-b.x_0/2 +(-1)*xx_1    \n",
    "                xx_2=Q_2*d_111\n",
    "                xx_4=-b.x_0/2+(-1)*xx_2 \n",
    "                print(\"Roots of the octonionic left quadratic equation can be written as:\")\n",
    "                print(xx_3,\"and\")\n",
    "                print(xx_4)"
   ]
  },
  {
   "cell_type": "markdown",
   "metadata": {},
   "source": [
    "# Example 1 : $x^2+5x+6=0$"
   ]
  },
  {
   "cell_type": "code",
   "execution_count": 25,
   "metadata": {},
   "outputs": [
    {
     "name": "stdout",
     "output_type": "stream",
     "text": [
      "Roots of the octonionic left quadratic equation are:\n",
      "-2.0 or -3.0\n"
     ]
    }
   ],
   "source": [
    "b=Octonion(5,0,0,0,0,0,0,0)\n",
    "c=Octonion(6,0,0,0,0,0,0,0)\n",
    "oct_quad(b,c)"
   ]
  },
  {
   "cell_type": "markdown",
   "metadata": {},
   "source": [
    "# Example 2 : $x^2+1=0$"
   ]
  },
  {
   "cell_type": "code",
   "execution_count": 26,
   "metadata": {},
   "outputs": [
    {
     "name": "stdout",
     "output_type": "stream",
     "text": [
      "Roots of the octonionic left quadratic equation are: 0.0 +I\n",
      "where I is imaginary octonion with norm equal to 1.0\n",
      "Thus, this octonionic left quadratic equation has infinitely many roots\n"
     ]
    }
   ],
   "source": [
    "b=Octonion(0,0,0,0,0,0,0,0)\n",
    "c=Octonion(1,0,0,0,0,0,0,0)\n",
    "oct_quad(b,c)"
   ]
  },
  {
   "cell_type": "markdown",
   "metadata": {},
   "source": [
    "# Example 3 : $x^2-x+l=0$"
   ]
  },
  {
   "cell_type": "code",
   "execution_count": 27,
   "metadata": {},
   "outputs": [
    {
     "name": "stdout",
     "output_type": "stream",
     "text": [
      "Roots are of the form:\n"
     ]
    },
    {
     "data": {
      "image/png": "[encoded data removed]",
      "text/latex": [
       "$\\displaystyle - \\frac{l}{\\rho} + \\frac{\\rho}{2} + 0.5$"
      ],
      "text/plain": [
       "  l   ρ      \n",
       "- ─ + ─ + 0.5\n",
       "  ρ   2      "
      ]
     },
     "metadata": {},
     "output_type": "display_data"
    },
    {
     "name": "stdout",
     "output_type": "stream",
     "text": [
      "OR\n"
     ]
    },
    {
     "data": {
      "image/png": "[encoded data removed]",
      "text/latex": [
       "$\\displaystyle \\frac{l}{\\rho} - \\frac{\\rho}{2} + 0.5$"
      ],
      "text/plain": [
       "l   ρ      \n",
       "─ - ─ + 0.5\n",
       "ρ   2      "
      ]
     },
     "metadata": {},
     "output_type": "display_data"
    },
    {
     "name": "stdout",
     "output_type": "stream",
     "text": [
      "where\n"
     ]
    },
    {
     "data": {
      "image/png": "[encoded data removed]",
      "text/latex": [
       "$\\displaystyle \\rho$"
      ],
      "text/plain": [
       "ρ"
      ]
     },
     "metadata": {},
     "output_type": "display_data"
    },
    {
     "name": "stdout",
     "output_type": "stream",
     "text": [
      "= 1.600485180440241\n",
      "So, Roots of the octonionic left quadratic equation can be written as:\n",
      "-0.3002 +0.0000i +0.0000j +0.0000k +0.6248l +0.0000il +0.0000jl +0.0000kl and\n",
      "+1.3002 -0.0000i -0.0000j -0.0000k -0.6248l -0.0000il -0.0000jl -0.0000kl\n"
     ]
    }
   ],
   "source": [
    "b=Octonion(-1,0,0,0,0,0,0,0)\n",
    "c=Octonion(0,0,0,0,1,0,0,0)\n",
    "oct_quad(b,c)"
   ]
  },
  {
   "cell_type": "markdown",
   "metadata": {},
   "source": [
    "# Example 4 : $x^2+lx+j=0$"
   ]
  },
  {
   "cell_type": "code",
   "execution_count": 28,
   "metadata": {},
   "outputs": [
    {
     "name": "stdout",
     "output_type": "stream",
     "text": [
      "Roots of the octonionic left quadratic equation can be written as:\n",
      "+0.5000 -0.0000i -0.5000j -0.0000k -0.5000l -0.0000il -0.5000jl -0.0000kl and\n",
      "-0.5000 -0.0000i +0.5000j -0.0000k -0.5000l -0.0000il -0.5000jl -0.0000kl\n"
     ]
    }
   ],
   "source": [
    "b=Octonion(0,0,0,0,1,0,0,0)\n",
    "c=Octonion(0,0,1,0,0,0,0,0)\n",
    "oct_quad(b,c)"
   ]
  },
  {
   "cell_type": "markdown",
   "metadata": {},
   "source": [
    "# Example 5 : $x^2+5x+(1+2i+3j+4k+l+2il-5jl+6kl)=0$"
   ]
  },
  {
   "cell_type": "code",
   "execution_count": 29,
   "metadata": {},
   "outputs": [
    {
     "name": "stdout",
     "output_type": "stream",
     "text": [
      "Roots are of the form:\n"
     ]
    },
    {
     "data": {
      "image/png": "[encoded data removed]",
      "text/latex": [
       "$\\displaystyle - \\frac{2 i}{\\rho} - \\frac{2 il}{\\rho} - \\frac{3 j}{\\rho} + \\frac{5 jl}{\\rho} - \\frac{4 k}{\\rho} - \\frac{6 kl}{\\rho} - \\frac{l}{\\rho} + \\frac{\\rho}{2} - 2.5$"
      ],
      "text/plain": [
       "  2⋅i   2⋅il   3⋅j   5⋅jl   4⋅k   6⋅kl   l   ρ      \n",
       "- ─── - ──── - ─── + ──── - ─── - ──── - ─ + ─ - 2.5\n",
       "   ρ     ρ      ρ     ρ      ρ     ρ     ρ   2      "
      ]
     },
     "metadata": {},
     "output_type": "display_data"
    },
    {
     "name": "stdout",
     "output_type": "stream",
     "text": [
      "OR\n"
     ]
    },
    {
     "data": {
      "image/png": "[encoded data removed]",
      "text/latex": [
       "$\\displaystyle \\frac{2 i}{\\rho} + \\frac{2 il}{\\rho} + \\frac{3 j}{\\rho} - \\frac{5 jl}{\\rho} + \\frac{4 k}{\\rho} + \\frac{6 kl}{\\rho} + \\frac{l}{\\rho} - \\frac{\\rho}{2} - 2.5$"
      ],
      "text/plain": [
       "2⋅i   2⋅il   3⋅j   5⋅jl   4⋅k   6⋅kl   l   ρ      \n",
       "─── + ──── + ─── - ──── + ─── + ──── + ─ - ─ - 2.5\n",
       " ρ     ρ      ρ     ρ      ρ     ρ     ρ   2      "
      ]
     },
     "metadata": {},
     "output_type": "display_data"
    },
    {
     "name": "stdout",
     "output_type": "stream",
     "text": [
      "where\n"
     ]
    },
    {
     "data": {
      "image/png": "[encoded data removed]",
      "text/latex": [
       "$\\displaystyle \\rho$"
      ],
      "text/plain": [
       "ρ"
      ]
     },
     "metadata": {},
     "output_type": "display_data"
    },
    {
     "name": "stdout",
     "output_type": "stream",
     "text": [
      "= 5.713281878700239\n",
      "So, Roots of the octonionic left quadratic equation can be written as:\n",
      "-5.3566 +0.3501i +0.5251j +0.7001k +0.1750l +0.3501il -0.8752jl +1.0502kl and\n",
      "+0.3566 -0.3501i -0.5251j -0.7001k -0.1750l -0.3501il +0.8752jl -1.0502kl\n"
     ]
    }
   ],
   "source": [
    "b=Octonion(5,0,0,0,0,0,0,0)\n",
    "c=Octonion(1,2,3,4,1,2,-5,6)\n",
    "oct_quad(b,c)\n"
   ]
  },
  {
   "cell_type": "markdown",
   "metadata": {},
   "source": [
    "# Example 6 : $x^2+(12+4j+5il+10kl)x+(1+2i+3j+4k+l+2il-5jl+6kl)=0$"
   ]
  },
  {
   "cell_type": "code",
   "execution_count": 30,
   "metadata": {},
   "outputs": [
    {
     "name": "stdout",
     "output_type": "stream",
     "text": [
      "Roots of the octonionic left quadratic equation can be written as:\n",
      "-0.3314 -0.2288i -0.0795j -0.1423k +0.2176l -0.0499il +0.2252jl -0.2544kl and\n",
      "-11.6686 -0.0606i -3.8463j +0.1942k +0.3018l -4.9056il -0.1955jl -9.7976kl\n"
     ]
    }
   ],
   "source": [
    "b=Octonion(12,0,4,0,0,5,0,10)\n",
    "c=Octonion(1,2,3,4,1,2,-5,6)\n",
    "oct_quad(b,c)"
   ]
  }
 ],
 "metadata": {
  "kernelspec": {
   "display_name": "Python 3",
   "language": "python",
   "name": "python3"
  },
  "language_info": {
   "codemirror_mode": {
    "name": "ipython",
    "version": 3
   },
   "file_extension": ".py",
   "mimetype": "text/x-python",
   "name": "python",
   "nbconvert_exporter": "python",
   "pygments_lexer": "ipython3",
   "version": "3.7.6"
  }
 },
 "nbformat": 4,
 "nbformat_minor": 2
}
