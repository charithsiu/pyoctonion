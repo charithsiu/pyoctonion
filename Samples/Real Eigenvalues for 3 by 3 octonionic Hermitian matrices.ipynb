{
 "cells": [
  {
   "cell_type": "code",
   "execution_count": 1,
   "metadata": {},
   "outputs": [],
   "source": [
    "from pyoctonion import Octonion\n",
    "import numpy as np\n",
    "from sympy import *\n",
    "from IPython.display import *"
   ]
  },
  {
   "cell_type": "code",
   "execution_count": 2,
   "metadata": {},
   "outputs": [],
   "source": [
    "# diagonal real numbers\n",
    "p=1;\n",
    "m=2;\n",
    "n=3;\n",
    "\n",
    "# octonion a,b and c\n",
    "a=Octonion(1,1,0,0,0,0,0,0);\n",
    "b=Octonion(0,0,0,0,-1,0,-1,0);\n",
    "c=Octonion(0,0,0,0,1,0,0,0);\n",
    "\n",
    "# norm squares of a,b and c\n",
    "a2=(a.norm)**2 ;\n",
    "b2=(b.norm)**2 ;\n",
    "c2=(c.norm)**2 ;\n",
    "\n",
    "# transpose of matrix A\n",
    "tr=p+m+n;\n",
    "\n",
    "#mu of matrix A\n",
    "mu=p*m+p*n+m*n-a2-b2-c2;\n",
    "\n",
    "#detminant of A\n",
    "det=(p*m*n+b*(a*c)+(b*(a*c)).conjugate -n*a2-m*b2-p*c2).x_0\n",
    "\n",
    "# Phi function\n",
    "phi=(((a*((b.conjugate)*c))-a*((b.conjugate)*c)).x_0)/2 ;\n",
    "\n",
    "#associator of [a,b,c]\n",
    "asso=(a*b)*c-a*(b*c)\n",
    "asso1=(asso.norm)**2"
   ]
  },
  {
   "cell_type": "markdown",
   "metadata": {},
   "source": [
    "#  Solutions to the quadratic equation $r^2+4\\Phi(a,b,c)-|[a,b,c]|^2=0$"
   ]
  },
  {
   "cell_type": "code",
   "execution_count": 26,
   "metadata": {},
   "outputs": [],
   "source": [
    "p=np.poly1d([1,4*phi,-asso1])"
   ]
  },
  {
   "cell_type": "code",
   "execution_count": 27,
   "metadata": {},
   "outputs": [
    {
     "name": "stdout",
     "output_type": "stream",
     "text": [
      "   2\n",
      "1 x - 4\n"
     ]
    }
   ],
   "source": [
    "print(p)"
   ]
  },
  {
   "cell_type": "markdown",
   "metadata": {},
   "source": [
    "# Solutions to the characteristic equation $\\lambda^3 -(tr A)\\lambda^2+\\mu(A)-\\det(A)=r$"
   ]
  },
  {
   "cell_type": "code",
   "execution_count": 28,
   "metadata": {},
   "outputs": [],
   "source": [
    "roots=p.roots"
   ]
  },
  {
   "cell_type": "code",
   "execution_count": 29,
   "metadata": {},
   "outputs": [],
   "source": [
    "p1=np.poly1d([1,-tr,mu,-det-roots[0]])"
   ]
  },
  {
   "cell_type": "code",
   "execution_count": 19,
   "metadata": {},
   "outputs": [
    {
     "name": "stdout",
     "output_type": "stream",
     "text": [
      "   3     2\n",
      "1 x - 6 x + 6 x + 1\n"
     ]
    }
   ],
   "source": [
    "print(p1)"
   ]
  },
  {
   "cell_type": "code",
   "execution_count": 30,
   "metadata": {},
   "outputs": [],
   "source": [
    "roots1=p1.roots"
   ]
  },
  {
   "cell_type": "code",
   "execution_count": 31,
   "metadata": {},
   "outputs": [],
   "source": [
    "p2=np.poly1d([1,-tr,mu,-det-roots[1]])"
   ]
  },
  {
   "cell_type": "code",
   "execution_count": 32,
   "metadata": {},
   "outputs": [
    {
     "name": "stdout",
     "output_type": "stream",
     "text": [
      "   3     2\n",
      "1 x - 6 x + 6 x + 5\n"
     ]
    }
   ],
   "source": [
    "print(p2)"
   ]
  },
  {
   "cell_type": "code",
   "execution_count": 33,
   "metadata": {},
   "outputs": [],
   "source": [
    "roots2=p2.roots"
   ]
  },
  {
   "cell_type": "markdown",
   "metadata": {},
   "source": [
    "# Real eigenvalues are:"
   ]
  },
  {
   "cell_type": "code",
   "execution_count": 34,
   "metadata": {},
   "outputs": [
    {
     "name": "stdout",
     "output_type": "stream",
     "text": [
      "4.669079088282286 1.4760236029181346 -0.14510269120042277 4.361468766185823 2.1674491911085365 -0.5289179572943618\n"
     ]
    }
   ],
   "source": [
    "print(roots1[0],roots1[1],roots1[2],roots2[0],roots2[1],roots2[2])"
   ]
  }
 ],
 "metadata": {
  "kernelspec": {
   "display_name": "Python 3",
   "language": "python",
   "name": "python3"
  },
  "language_info": {
   "codemirror_mode": {
    "name": "ipython",
    "version": 3
   },
   "file_extension": ".py",
   "mimetype": "text/x-python",
   "name": "python",
   "nbconvert_exporter": "python",
   "pygments_lexer": "ipython3",
   "version": "3.7.6"
  }
 },
 "nbformat": 4,
 "nbformat_minor": 2
}
